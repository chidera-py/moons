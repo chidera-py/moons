{
 "cells": [
  {
   "cell_type": "code",
   "execution_count": 1,
   "id": "265abe14",
   "metadata": {
    "scrolled": true
   },
   "outputs": [],
   "source": [
    "from jupiter import Moons\n",
    "import pandas as pd"
   ]
  },
  {
   "cell_type": "code",
   "execution_count": 2,
   "id": "56b760a2",
   "metadata": {},
   "outputs": [],
   "source": [
    "# Create an instance of Moons, providing the path to your database file\n",
    "moons = Moons(data = \"jupiter.db\")"
   ]
  },
  {
   "cell_type": "code",
   "execution_count": 3,
   "id": "6498ea14",
   "metadata": {},
   "outputs": [
    {
     "name": "stdout",
     "output_type": "stream",
     "text": [
      "               period_days  distance_km  radius_km    mag       mass_kg  \\\n",
      "moon                                                                      \n",
      "Adrastea          0.298000     129000.0       8.20    NaN           NaN   \n",
      "Aitne           730.000000   23231000.0       1.50  22.70           NaN   \n",
      "Amalthea          0.498000     181400.0      83.50  14.10  2.080000e+18   \n",
      "Ananke          630.000000   21300000.0      14.00  18.90           NaN   \n",
      "Aoede           761.000000   24000000.0       2.00  22.50           NaN   \n",
      "Arche           724.000000   22931000.0       1.50  22.80           NaN   \n",
      "Autonoe         719.000000   23039000.0       2.00  22.00           NaN   \n",
      "Callirrhoe      787.000000   24583090.0       4.80  20.80           NaN   \n",
      "Callisto         16.689018    1882700.0    2410.30   5.65  1.075938e+23   \n",
      "Carme           693.000000   22579850.0      23.35  18.90           NaN   \n",
      "Carpo           456.000000   16989000.0       1.50  23.00           NaN   \n",
      "Chaldene        760.000000   24006280.0       2.00  22.50           NaN   \n",
      "Cyllene         738.000000   24349000.0       1.00  23.20           NaN   \n",
      "Dia             287.000000   12118000.0       2.00  22.40           NaN   \n",
      "Eirene          744.000000   23731770.0       2.00  22.50           NaN   \n",
      "Elara           259.000000   11703130.0      40.00  16.60           NaN   \n",
      "Erinome         683.000000   22354200.0       1.50  22.80           NaN   \n",
      "Ersa            252.000000   11483000.0       1.50  22.90           NaN   \n",
      "Euanthe         603.000000   20799000.0       1.50  22.80           NaN   \n",
      "Eukelade        693.000000   23661000.0       2.00  22.60           NaN   \n",
      "Eupheme         628.000000   21199710.0       1.00  23.40           NaN   \n",
      "Euporie         551.000000   19302000.0       1.00  23.10           NaN   \n",
      "Europa            3.551181     670900.0    1560.80   5.29  4.799844e+22   \n",
      "Eurydome        723.000000   23214490.0       1.50  22.70           NaN   \n",
      "Ganymede          7.150000    1070400.0    2634.10   4.61  1.481900e+23   \n",
      "Harpalyke       624.000000   21280180.0       2.00  22.20           NaN   \n",
      "Hegemone        740.000000   23947000.0       1.50  22.80           NaN   \n",
      "Helike          635.000000   21263000.0       2.00  22.60           NaN   \n",
      "Hermippe        607.000000   20665870.0       2.00  22.10           NaN   \n",
      "Herse           715.000000   23097000.0       1.00  23.40           NaN   \n",
      "Himalia         248.000000   11388690.0      85.00  14.60  4.200000e+18   \n",
      "Io                1.750000     421700.0    1821.60   5.02  8.931938e+22   \n",
      "Iocaste         641.000000   21431650.0       2.50  21.80           NaN   \n",
      "Isonoe          689.000000   23322670.0       2.00  22.50           NaN   \n",
      "Kale            737.000000   23512340.0       1.00  23.00           NaN   \n",
      "Kallichore      765.000000   24043000.0       1.00  23.70           NaN   \n",
      "Kalyke          767.000000   24147770.0       3.50  21.80           NaN   \n",
      "Kore            779.000000   24543000.0       1.00  23.60           NaN   \n",
      "Leda            242.000000   11195980.0      10.75  20.20           NaN   \n",
      "Lysithea        258.000000   11700710.0      21.00  18.20           NaN   \n",
      "Megaclite       747.000000   23736190.0       3.00  21.70           NaN   \n",
      "Metis             0.290000     128000.0      21.50    NaN           NaN   \n",
      "Mneme           620.000000   21069000.0       1.00  23.30           NaN   \n",
      "Orthosie        629.000000   21170540.0       1.00  23.10           NaN   \n",
      "Pandia          252.000000   11525000.0       1.50  23.00           NaN   \n",
      "Pasiphae        722.000000   23208940.0      28.90  16.90           NaN   \n",
      "Pasithee        711.000000   22967990.0       1.00  23.20           NaN   \n",
      "Philophrosyne   701.000000   22819950.0       1.00  23.50           NaN   \n",
      "Praxidike       609.000000   21147000.0       3.50  21.20           NaN   \n",
      "Sinope          777.000000   24371650.0      17.50  18.30           NaN   \n",
      "Sponde          735.000000   23487000.0       1.00  23.00           NaN   \n",
      "Taygete         692.000000   22546240.0       2.50  21.90           NaN   \n",
      "Thebe             0.670000     221889.0      49.00    NaN           NaN   \n",
      "Thelxinoe       628.000000   21162000.0       1.00  23.50           NaN   \n",
      "Themisto        130.000000    7396130.0       4.50  21.00           NaN   \n",
      "Thyone          604.000000   20940000.0       2.00  22.30           NaN   \n",
      "\n",
      "                  group       ecc  inclination_deg  \n",
      "moon                                                \n",
      "Adrastea          Inner  0.001500             0.03  \n",
      "Aitne             Carme  0.264000           165.00  \n",
      "Amalthea          Inner  0.003190             0.37  \n",
      "Ananke           Ananke  0.174725           148.60  \n",
      "Aoede          Pasiphae  0.432000           158.00  \n",
      "Arche             Carme  0.259000           165.00  \n",
      "Autonoe        Pasiphae  0.334000           153.00  \n",
      "Callirrhoe     Pasiphae  0.309570           148.00  \n",
      "Callisto       Galilean  0.007400             2.02  \n",
      "Carme             Carme  0.229493           163.00  \n",
      "Carpo             other  0.430000            51.40  \n",
      "Chaldene          Carme  0.150086           164.00  \n",
      "Cyllene        Pasiphae  0.319000           149.00  \n",
      "Dia             Himalia  0.211000            28.30  \n",
      "Eirene            Carme  0.241300           162.70  \n",
      "Elara           Himalia  0.196149            30.50  \n",
      "Erinome           Carme  0.205256           164.80  \n",
      "Ersa            Himalia  0.094000            30.61  \n",
      "Euanthe          Ananke  0.232000           148.90  \n",
      "Eukelade          Carme  0.272000           165.50  \n",
      "Eupheme          Ananke  0.253000           148.00  \n",
      "Euporie          Ananke  0.144000           145.80  \n",
      "Europa         Galilean  0.009000             1.79  \n",
      "Eurydome       Pasiphae  0.297537           150.00  \n",
      "Ganymede       Galilean  0.001300             2.20  \n",
      "Harpalyke        Ananke  0.160268           148.29  \n",
      "Hegemone       Pasiphae  0.328000           155.20  \n",
      "Helike           Ananke  0.156000           154.80  \n",
      "Hermippe         Ananke  0.198252           146.70  \n",
      "Herse             Carme  0.200000           164.20  \n",
      "Himalia         Himalia  0.153786            29.90  \n",
      "Io             Galilean  0.004100             2.20  \n",
      "Iocaste          Ananke  0.329491           149.40  \n",
      "Isonoe            Carme  0.226312           164.40  \n",
      "Kale              Carme  0.289346           166.20  \n",
      "Kallichore        Carme  0.264000           165.50  \n",
      "Kalyke            Carme  0.302822           165.90  \n",
      "Kore           Pasiphae  0.325000           145.00  \n",
      "Leda            Himalia  0.164879            27.60  \n",
      "Lysithea        Hamilia  0.147873            26.30  \n",
      "Megaclite      Pasiphae  0.410217           143.00  \n",
      "Metis             Inner  0.000200             2.00  \n",
      "Mneme            Ananke  0.227000           148.60  \n",
      "Orthosie         Ananke  0.483724           148.00  \n",
      "Pandia          Himalia  0.180000            28.00  \n",
      "Pasiphae       Pasiphae  0.611016           153.00  \n",
      "Pasithee          Carme  0.209703           165.00  \n",
      "Philophrosyne  Pasiphae  0.194000           144.00  \n",
      "Praxidike        Ananke  0.230000           149.00  \n",
      "Sinope         Pasiphae  0.336655           158.00  \n",
      "Sponde         Pasiphae  0.312000           151.00  \n",
      "Taygete           Carme  0.248754           166.00  \n",
      "Thebe             Inner  0.017500             1.10  \n",
      "Thelxinoe        Ananke  0.221000           151.40  \n",
      "Themisto          other  0.252211            45.30  \n",
      "Thyone           Ananke  0.229000           148.50  \n"
     ]
    }
   ],
   "source": [
    "# Call the load_data method to load the data into the DataFrame\n",
    "moons.load_data()"
   ]
  },
  {
   "cell_type": "code",
   "execution_count": 4,
   "id": "92f0beab",
   "metadata": {},
   "outputs": [],
   "source": [
    "#moons.print_col_names()"
   ]
  },
  {
   "cell_type": "code",
   "execution_count": 5,
   "id": "ec70e342",
   "metadata": {},
   "outputs": [],
   "source": [
    "#moons.print_row_names()"
   ]
  },
  {
   "cell_type": "code",
   "execution_count": 16,
   "id": "d757bc04",
   "metadata": {},
   "outputs": [],
   "source": [
    "#moons.print_groups(\"Inner\")"
   ]
  },
  {
   "cell_type": "code",
   "execution_count": 9,
   "id": "e60ce389",
   "metadata": {},
   "outputs": [],
   "source": [
    "#moons.summary()"
   ]
  },
  {
   "cell_type": "code",
   "execution_count": 10,
   "id": "8a54b97c",
   "metadata": {},
   "outputs": [],
   "source": [
    "#moons.summary_stats()"
   ]
  },
  {
   "cell_type": "code",
   "execution_count": 11,
   "id": "34718a5a",
   "metadata": {},
   "outputs": [],
   "source": [
    "#moons.correlations(\"mag\", \"mass_kg\")"
   ]
  },
  {
   "cell_type": "code",
   "execution_count": 12,
   "id": "5fc29170",
   "metadata": {},
   "outputs": [],
   "source": [
    "#moons.extract_moons([\"Elara\", \"Erinome\", \"Ersa\"])"
   ]
  },
  {
   "cell_type": "code",
   "execution_count": 13,
   "id": "70ead1e9",
   "metadata": {},
   "outputs": [],
   "source": [
    "#moons.extract_cols([\"period_days\", \"distance_km\"])"
   ]
  },
  {
   "cell_type": "code",
   "execution_count": 14,
   "id": "a547b0c3",
   "metadata": {},
   "outputs": [],
   "source": [
    "#moons.extract_rows([\"Thebe\", \"Sponde\"])"
   ]
  },
  {
   "cell_type": "code",
   "execution_count": 15,
   "id": "8959b919",
   "metadata": {},
   "outputs": [],
   "source": [
    "#moons.merge([\"period_days\", \"radius_km\"], [\"Thebe\", \"Sponde\"])"
   ]
  },
  {
   "cell_type": "code",
   "execution_count": null,
   "id": "dfc2bc2d",
   "metadata": {},
   "outputs": [],
   "source": []
  }
 ],
 "metadata": {
  "jupytext": {
   "cell_metadata_filter": "-all",
   "main_language": "python",
   "notebook_metadata_filter": "-all"
  },
  "kernelspec": {
   "display_name": "Python 3 (ipykernel)",
   "language": "python",
   "name": "python3"
  },
  "language_info": {
   "codemirror_mode": {
    "name": "ipython",
    "version": 3
   },
   "file_extension": ".py",
   "mimetype": "text/x-python",
   "name": "python",
   "nbconvert_exporter": "python",
   "pygments_lexer": "ipython3",
   "version": "3.11.5"
  }
 },
 "nbformat": 4,
 "nbformat_minor": 5
}
