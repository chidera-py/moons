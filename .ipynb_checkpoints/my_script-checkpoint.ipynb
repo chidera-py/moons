{
 "cells": [
  {
   "cell_type": "code",
   "execution_count": 1,
   "id": "265abe14",
   "metadata": {},
   "outputs": [
    {
     "ename": "ModuleNotFoundError",
     "evalue": "No module named 'jupiter'",
     "output_type": "error",
     "traceback": [
      "\u001b[0;31m---------------------------------------------------------------------------\u001b[0m",
      "\u001b[0;31mModuleNotFoundError\u001b[0m                       Traceback (most recent call last)",
      "Cell \u001b[0;32mIn[1], line 1\u001b[0m\n\u001b[0;32m----> 1\u001b[0m \u001b[38;5;28;01mfrom\u001b[39;00m \u001b[38;5;21;01mjupiter\u001b[39;00m \u001b[38;5;28;01mimport\u001b[39;00m Moons\n",
      "\u001b[0;31mModuleNotFoundError\u001b[0m: No module named 'jupiter'"
     ]
    }
   ],
   "source": [
    "from jupiter import Moons"
   ]
  },
  {
   "cell_type": "code",
   "execution_count": 2,
   "id": "56b760a2",
   "metadata": {},
   "outputs": [
    {
     "ename": "NameError",
     "evalue": "name 'Moons' is not defined",
     "output_type": "error",
     "traceback": [
      "\u001b[0;31m---------------------------------------------------------------------------\u001b[0m",
      "\u001b[0;31mNameError\u001b[0m                                 Traceback (most recent call last)",
      "Cell \u001b[0;32mIn[2], line 1\u001b[0m\n\u001b[0;32m----> 1\u001b[0m moons_instance \u001b[38;5;241m=\u001b[39m Moons()\n\u001b[1;32m      2\u001b[0m moons_instance\n",
      "\u001b[0;31mNameError\u001b[0m: name 'Moons' is not defined"
     ]
    }
   ],
   "source": [
    "moons_instance = Moons()\n",
    "moons_instance"
   ]
  },
  {
   "cell_type": "code",
   "execution_count": null,
   "id": "e60ce389",
   "metadata": {},
   "outputs": [],
   "source": []
  }
 ],
 "metadata": {
  "jupytext": {
   "cell_metadata_filter": "-all",
   "main_language": "python",
   "notebook_metadata_filter": "-all"
  },
  "kernelspec": {
   "display_name": "Python 3 (ipykernel)",
   "language": "python",
   "name": "python3"
  },
  "language_info": {
   "codemirror_mode": {
    "name": "ipython",
    "version": 3
   },
   "file_extension": ".py",
   "mimetype": "text/x-python",
   "name": "python",
   "nbconvert_exporter": "python",
   "pygments_lexer": "ipython3",
   "version": "3.11.5"
  }
 },
 "nbformat": 4,
 "nbformat_minor": 5
}
